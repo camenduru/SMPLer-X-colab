{
  "cells": [
    {
      "cell_type": "markdown",
      "metadata": {
        "id": "view-in-github"
      },
      "source": [
        "[![Open In Colab](https://colab.research.google.com/assets/colab-badge.svg)](https://colab.research.google.com/github/camenduru/SMPLer-X-colab/blob/main/SMPLer_X_gradio_jupyter.ipynb)"
      ]
    },
    {
      "cell_type": "code",
      "execution_count": null,
      "metadata": {
        "id": "VjYy0F2gZIPR"
      },
      "outputs": [],
      "source": [
        "%cd /content\n",
        "!git clone -b dev https://github.com/camenduru/SMPLer-X-hf\n",
        "%cd /content/SMPLer-X-hf\n",
        "\n",
        "!pip install -q smplx==0.1.28 yacs tensorboardx filterpy chumpy trimesh pyrender json_tricks torchgeometry einops boto3 plyfile timm pyglet mmdet==2.26.0 yapf==0.40.1\n",
        "!pip install -q https://github.com/camenduru/wheels/releases/download/colab/mmcv_full-1.7.1-cp310-cp310-linux_x86_64.whl gradio==4.16.0 numpy==1.23\n",
        "\n",
        "%cd /content/SMPLer-X-hf/main/transformer_utils\n",
        "!pip install -v -e .\n",
        "%cd /content/SMPLer-X-hf\n",
        "\n",
        "!apt -y install -qq aria2\n",
        "!aria2c --console-log-level=error -c -x 16 -s 16 -k 1M https://huggingface.co/spaces/caizhongang/SMPLer-X/resolve/main/assets/01.mp4 -d /content/SMPLer-X-hf/assets -o 01.mp4\n",
        "!aria2c --console-log-level=error -c -x 16 -s 16 -k 1M https://huggingface.co/spaces/caizhongang/SMPLer-X/resolve/main/assets/02.mp4 -d /content/SMPLer-X-hf/assets -o 02.mp4\n",
        "!aria2c --console-log-level=error -c -x 16 -s 16 -k 1M https://huggingface.co/spaces/caizhongang/SMPLer-X/resolve/main/assets/03.mp4 -d /content/SMPLer-X-hf/assets -o 03.mp4\n",
        "!aria2c --console-log-level=error -c -x 16 -s 16 -k 1M https://huggingface.co/spaces/caizhongang/SMPLer-X/resolve/main/assets/04.mp4 -d /content/SMPLer-X-hf/assets -o 04.mp4\n",
        "!aria2c --console-log-level=error -c -x 16 -s 16 -k 1M https://huggingface.co/spaces/caizhongang/SMPLer-X/resolve/main/assets/06.mp4 -d /content/SMPLer-X-hf/assets -o 06.mp4\n",
        "!aria2c --console-log-level=error -c -x 16 -s 16 -k 1M https://huggingface.co/spaces/caizhongang/SMPLer-X/resolve/main/assets/07.mp4 -d /content/SMPLer-X-hf/assets -o 07.mp4\n",
        "!aria2c --console-log-level=error -c -x 16 -s 16 -k 1M https://huggingface.co/spaces/caizhongang/SMPLer-X/resolve/main/assets/09.mp4 -d /content/SMPLer-X-hf/assets -o 09.mp4\n",
        "!aria2c --console-log-level=error -c -x 16 -s 16 -k 1M https://huggingface.co/spaces/caizhongang/SMPLer-X/resolve/main/common/utils/human_model_files/smpl/SMPL_FEMALE.pkl -d /content/SMPLer-X-hf/common/utils/human_model_files/smpl -o SMPL_FEMALE.pkl\n",
        "!aria2c --console-log-level=error -c -x 16 -s 16 -k 1M https://huggingface.co/spaces/caizhongang/SMPLer-X/resolve/main/common/utils/human_model_files/smpl/SMPL_MALE.pkl -d /content/SMPLer-X-hf/common/utils/human_model_files/smpl -o SMPL_MALE.pkl\n",
        "!aria2c --console-log-level=error -c -x 16 -s 16 -k 1M https://huggingface.co/spaces/caizhongang/SMPLer-X/resolve/main/common/utils/human_model_files/smpl/SMPL_NEUTRAL.pkl -d /content/SMPLer-X-hf/common/utils/human_model_files/smpl -o SMPL_NEUTRAL.pkl\n",
        "!aria2c --console-log-level=error -c -x 16 -s 16 -k 1M https://huggingface.co/spaces/caizhongang/SMPLer-X/resolve/main/common/utils/human_model_files/smpl/smpl_uv.npz -d /content/SMPLer-X-hf/common/utils/human_model_files/smpl -o smpl_uv.npz\n",
        "!aria2c --console-log-level=error -c -x 16 -s 16 -k 1M https://huggingface.co/spaces/caizhongang/SMPLer-X/resolve/main/common/utils/human_model_files/smplx/MANO_SMPLX_vertex_ids.pkl -d /content/SMPLer-X-hf/common/utils/human_model_files/smplx -o MANO_SMPLX_vertex_ids.pkl\n",
        "!aria2c --console-log-level=error -c -x 16 -s 16 -k 1M https://huggingface.co/spaces/caizhongang/SMPLer-X/resolve/main/common/utils/human_model_files/smplx/SMPL-X__FLAME_vertex_ids.npy -d /content/SMPLer-X-hf/common/utils/human_model_files/smplx -o SMPL-X__FLAME_vertex_ids.npy\n",
        "!aria2c --console-log-level=error -c -x 16 -s 16 -k 1M https://huggingface.co/spaces/caizhongang/SMPLer-X/resolve/main/common/utils/human_model_files/smplx/SMPLX_FEMALE.npz -d /content/SMPLer-X-hf/common/utils/human_model_files/smplx -o SMPLX_FEMALE.npz\n",
        "!aria2c --console-log-level=error -c -x 16 -s 16 -k 1M https://huggingface.co/spaces/caizhongang/SMPLer-X/resolve/main/common/utils/human_model_files/smplx/SMPLX_MALE.npz -d /content/SMPLer-X-hf/common/utils/human_model_files/smplx -o SMPLX_MALE.npz\n",
        "!aria2c --console-log-level=error -c -x 16 -s 16 -k 1M https://huggingface.co/spaces/caizhongang/SMPLer-X/resolve/main/common/utils/human_model_files/smplx/SMPLX_NEUTRAL.npz -d /content/SMPLer-X-hf/common/utils/human_model_files/smplx -o SMPLX_NEUTRAL.npz\n",
        "!aria2c --console-log-level=error -c -x 16 -s 16 -k 1M https://huggingface.co/spaces/caizhongang/SMPLer-X/resolve/main/common/utils/human_model_files/smplx/SMPLX_NEUTRAL.pkl -d /content/SMPLer-X-hf/common/utils/human_model_files/smplx -o SMPLX_NEUTRAL.pkl\n",
        "!aria2c --console-log-level=error -c -x 16 -s 16 -k 1M https://huggingface.co/spaces/caizhongang/SMPLer-X/resolve/main/common/utils/human_model_files/smplx/SMPLX_to_J14.pkl -d /content/SMPLer-X-hf/common/utils/human_model_files/smplx -o SMPLX_to_J14.pkl\n",
        "!aria2c --console-log-level=error -c -x 16 -s 16 -k 1M https://huggingface.co/spaces/caizhongang/SMPLer-X/resolve/main/pretrained_models/mmdet/faster_rcnn_r50_fpn_1x_coco_20200130-047c8118.pth -d /content/SMPLer-X-hf/pretrained_models/mmdet -o faster_rcnn_r50_fpn_1x_coco_20200130-047c8118.pth\n",
        "!aria2c --console-log-level=error -c -x 16 -s 16 -k 1M https://huggingface.co/spaces/caizhongang/SMPLer-X/resolve/main/pretrained_models/smpler_x_h32.pth.tar -d /content/SMPLer-X-hf/pretrained_models -o smpler_x_h32.pth.tar\n",
        "\n",
        "!python app.py"
      ]
    }
  ],
  "metadata": {
    "accelerator": "GPU",
    "colab": {
      "gpuType": "T4",
      "provenance": []
    },
    "kernelspec": {
      "display_name": "Python 3",
      "name": "python3"
    },
    "language_info": {
      "name": "python"
    }
  },
  "nbformat": 4,
  "nbformat_minor": 0
}
