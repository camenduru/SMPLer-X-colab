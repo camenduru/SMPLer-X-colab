{
  "cells": [
    {
      "cell_type": "markdown",
      "metadata": {
        "id": "view-in-github"
      },
      "source": [
        "[![Open In Colab](https://colab.research.google.com/assets/colab-badge.svg)](https://colab.research.google.com/github/camenduru/SMPLer-X-colab/blob/main/SMPLer-X_colab.ipynb)"
      ]
    },
    {
      "cell_type": "code",
      "execution_count": null,
      "metadata": {
        "id": "VjYy0F2gZIPR"
      },
      "outputs": [],
      "source": [
        "%cd /content\n",
        "!git clone -b dev https://github.com/camenduru/SMPLer-X\n",
        "%cd /content/SMPLer-X\n",
        "\n",
        "!pip install -q smplx==0.1.28 yacs tensorboardx filterpy chumpy trimesh pyrender json_tricks torchgeometry einops boto3 plyfile timm pyglet mmdet==2.26.0 yapf==0.40.1\n",
        "!pip install -q https://github.com/camenduru/insightface-face-detection-colab/releases/download/v0.1/mmcv_full-1.7.0-cp310-cp310-linux_x86_64.whl\n",
        "# !pip install -q mmcv-full==1.7.1 -f https://download.openmmlab.com/mmcv/dist/cu113/torch1.12.0/index.html\n",
        "\n",
        "%cd /content/SMPLer-X/main/transformer_utils\n",
        "!pip install -v -e .\n",
        "%cd /content/SMPLer-X\n",
        "\n",
        "!apt -y install -qq aria2\n",
        "!aria2c --console-log-level=error -c -x 16 -s 16 -k 1M https://huggingface.co/camenduru/SMPLer-X/resolve/main/faster_rcnn_r50_fpn_1x_coco_20200130-047c8118.pth -d /content/SMPLer-X/pretrained_models/mmdet -o faster_rcnn_r50_fpn_1x_coco_20200130-047c8118.pth\n",
        "!aria2c --console-log-level=error -c -x 16 -s 16 -k 1M https://huggingface.co/camenduru/SMPLer-X/raw/main/mmdet_faster_rcnn_r50_fpn_coco.py -d /content/SMPLer-X/pretrained_models/mmdet -o mmdet_faster_rcnn_r50_fpn_coco.py\n",
        "\n",
        "!aria2c --console-log-level=error -c -x 16 -s 16 -k 1M https://huggingface.co/camenduru/SMPLer-X/resolve/main/smpler_x_s32.pth.tar -d /content/SMPLer-X/pretrained_models -o smpler_x_s32.pth.tar\n",
        "!aria2c --console-log-level=error -c -x 16 -s 16 -k 1M https://huggingface.co/camenduru/SMPLer-X/resolve/main/smpler_x_b32.pth.tar -d /content/SMPLer-X/pretrained_models -o smpler_x_b32.pth.tar\n",
        "!aria2c --console-log-level=error -c -x 16 -s 16 -k 1M https://huggingface.co/camenduru/SMPLer-X/resolve/main/smpler_x_l32.pth.tar -d /content/SMPLer-X/pretrained_models -o smpler_x_l32.pth.tar\n",
        "# !aria2c --console-log-level=error -c -x 16 -s 16 -k 1M https://huggingface.co/camenduru/SMPLer-X/resolve/main/smpler_x_h32.pth.tar -d /content/SMPLer-X/pretrained_models -o smpler_x_h32.pth.tar\n",
        "\n",
        "!aria2c --console-log-level=error -c -x 16 -s 16 -k 1M https://huggingface.co/camenduru/SMPLer-X/resolve/main/vitpose_small.pth -d /content/SMPLer-X/pretrained_models -o vitpose_small.pth\n",
        "!aria2c --console-log-level=error -c -x 16 -s 16 -k 1M https://huggingface.co/camenduru/SMPLer-X/resolve/main/vitpose_base.pth -d /content/SMPLer-X/pretrained_models -o vitpose_base.pth\n",
        "!aria2c --console-log-level=error -c -x 16 -s 16 -k 1M https://huggingface.co/camenduru/SMPLer-X/resolve/main/vitpose_large.pth -d /content/SMPLer-X/pretrained_models -o vitpose_large.pth\n",
        "!aria2c --console-log-level=error -c -x 16 -s 16 -k 1M https://huggingface.co/camenduru/SMPLer-X/resolve/main/vitpose_huge.pth -d /content/SMPLer-X/pretrained_models -o vitpose_huge.pth\n",
        "\n",
        "!aria2c --console-log-level=error -c -x 16 -s 16 -k 1M https://huggingface.co/camenduru/SMPLer-X/resolve/main/SMPL_FEMALE.pkl -d /content/SMPLer-X/common/utils/human_model_files/smpl -o SMPL_FEMALE.pkl\n",
        "!aria2c --console-log-level=error -c -x 16 -s 16 -k 1M https://huggingface.co/camenduru/SMPLer-X/resolve/main/SMPL_MALE.pkl -d /content/SMPLer-X/common/utils/human_model_files/smpl -o SMPL_MALE.pkl\n",
        "!aria2c --console-log-level=error -c -x 16 -s 16 -k 1M https://huggingface.co/camenduru/SMPLer-X/resolve/main/SMPL_NEUTRAL.pkl -d /content/SMPLer-X/common/utils/human_model_files/smpl -o SMPL_NEUTRAL.pkl\n",
        "!aria2c --console-log-level=error -c -x 16 -s 16 -k 1M https://huggingface.co/camenduru/SMPLer-X/resolve/main/MANO_SMPLX_vertex_ids.pkl -d /content/SMPLer-X/common/utils/human_model_files/smplx -o MANO_SMPLX_vertex_ids.pkl\n",
        "!aria2c --console-log-level=error -c -x 16 -s 16 -k 1M https://huggingface.co/camenduru/SMPLer-X/resolve/main/SMPL-X__FLAME_vertex_ids.npy -d /content/SMPLer-X/common/utils/human_model_files/smplx -o SMPL-X__FLAME_vertex_ids.npy\n",
        "!aria2c --console-log-level=error -c -x 16 -s 16 -k 1M https://huggingface.co/camenduru/SMPLer-X/resolve/main/SMPLX_NEUTRAL.npz -d /content/SMPLer-X/common/utils/human_model_files/smplx -o SMPLX_NEUTRAL.npz\n",
        "!aria2c --console-log-level=error -c -x 16 -s 16 -k 1M https://huggingface.co/camenduru/SMPLer-X/resolve/main/SMPLX_NEUTRAL.pkl -d /content/SMPLer-X/common/utils/human_model_files/smplx -o SMPLX_NEUTRAL.pkl\n",
        "!aria2c --console-log-level=error -c -x 16 -s 16 -k 1M https://huggingface.co/camenduru/SMPLer-X/resolve/main/SMPLX_to_J14.pkl -d /content/SMPLer-X/common/utils/human_model_files/smplx -o SMPLX_to_J14.pkl\n",
        "!aria2c --console-log-level=error -c -x 16 -s 16 -k 1M https://huggingface.co/camenduru/SMPLer-X/resolve/main/SMPLX_MALE.npz -d /content/SMPLer-X/common/utils/human_model_files/smplx -o SMPLX_MALE.npz\n",
        "!aria2c --console-log-level=error -c -x 16 -s 16 -k 1M https://huggingface.co/camenduru/SMPLer-X/resolve/main/SMPLX_FEMALE.npz -d /content/SMPLer-X/common/utils/human_model_files/smplx -o SMPLX_FEMALE.npz\n",
        "\n",
        "!aria2c --console-log-level=error -c -x 16 -s 16 -k 1M https://huggingface.co/camenduru/SMPLer-X/resolve/main/test_video.mp4 -d /content/SMPLer-X/demo/videos -o test_video.mp4"
      ]
    },
    {
      "cell_type": "code",
      "execution_count": null,
      "metadata": {},
      "outputs": [],
      "source": [
        "# !apt -y install -qq slurm-client\n",
        "!mkdir -p /content/SMPLer-X/demo/images/test_video\n",
        "!mkdir -p /content/SMPLer-X/demo/results/test_video\n",
        "%cd /content/SMPLer-X/main\n",
        "!sh slurm_inference.sh test_video mp4 24 smpler_x_l32"
      ]
    },
    {
      "cell_type": "code",
      "execution_count": null,
      "metadata": {},
      "outputs": [],
      "source": [
        "%cd /content/SMPLer-X/main\n",
        "!python inference.py --num_gpus 1 --exp_name output/demo_inference_test_video --pretrained_model smpler_x_l32 --agora_benchmark agora_model --img_path ../demo/images/test_video --start 1 --end 527 --output_folder ../demo/results/test_video --show_verts --show_bbox --save_mesh\n",
        "!ffmpeg -y -f image2 -r $24 -i /content/SMPLer-X/demo/results/test_video/img/%06d.jpg -vcodec mjpeg -qscale 0 -pix_fmt yuv420p ../demo/results/test_video.mp4"
      ]
    }
  ],
  "metadata": {
    "accelerator": "GPU",
    "colab": {
      "gpuType": "T4",
      "provenance": []
    },
    "kernelspec": {
      "display_name": "Python 3",
      "name": "python3"
    },
    "language_info": {
      "name": "python"
    }
  },
  "nbformat": 4,
  "nbformat_minor": 0
}
